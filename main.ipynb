{
 "cells": [
  {
   "cell_type": "code",
   "execution_count": 1,
   "metadata": {},
   "outputs": [],
   "source": [
    "from neural_network import LossFunctions\n",
    "from neural_network import datasets\n",
    "from neural_network.classes.Optimizers import NesterovSGD\n",
    "from neural_network.classes.Validation import ConfigurationGenerator, Hyperparameter, model_builder\n",
    "import neural_network.utils\n",
    "import numpy as np\n",
    "import pandas as pd\n",
    "from sklearn.preprocessing import minmax_scale"
   ]
  },
  {
   "cell_type": "code",
   "execution_count": 2,
   "metadata": {},
   "outputs": [
    {
     "data": {
      "text/plain": [
       "4.920817942947524"
      ]
     },
     "execution_count": 2,
     "metadata": {},
     "output_type": "execute_result"
    }
   ],
   "source": [
    "hp = Hyperparameter(\n",
    "    generator_logic=\"random_choice_from_range\",\n",
    "    generator_space= (3.0, 5),\n",
    "    unfold=False\n",
    ")\n",
    "\n",
    "next(hp)"
   ]
  },
  {
   "cell_type": "markdown",
   "metadata": {},
   "source": [
    "# Configure the hyperparameter grid"
   ]
  },
  {
   "cell_type": "code",
   "execution_count": 6,
   "metadata": {},
   "outputs": [
    {
     "name": "stdout",
     "output_type": "stream",
     "text": [
      "{'loss_function': <class 'neural_network.classes.LossFunctions.MSE.MSE'>, 'optimizer': <class 'neural_network.classes.Optimizers.NesterovSGD.NesterovSGD'>, 'optimizer_learning_rate': 0.1, 'optimizer_momentum': 0.7361758810216454, 'optimizer_regularization': 0.0, 'batch_size': 200, 'num_epochs': 1000, 'num_hidden_layers': 3, 'neurons_in_layer_1': 30, 'neurons_in_layer_2': 30, 'neurons_in_layer_3': 30} \n",
      "\n",
      "{'loss_function': <class 'neural_network.classes.LossFunctions.MSE.MSE'>, 'optimizer': <class 'neural_network.classes.Optimizers.NesterovSGD.NesterovSGD'>, 'optimizer_learning_rate': 0.1, 'optimizer_momentum': 0.7356305042865241, 'optimizer_regularization': 0.2, 'batch_size': 200, 'num_epochs': 1000, 'num_hidden_layers': 3, 'neurons_in_layer_1': 30, 'neurons_in_layer_2': 30, 'neurons_in_layer_3': 30} \n",
      "\n",
      "{'loss_function': <class 'neural_network.classes.LossFunctions.MSE.MSE'>, 'optimizer': <class 'neural_network.classes.Optimizers.NesterovSGD.NesterovSGD'>, 'optimizer_learning_rate': 0.1, 'optimizer_momentum': 0.8878316275534195, 'optimizer_regularization': 0.0, 'batch_size': 200, 'num_epochs': 1000, 'num_hidden_layers': 3, 'neurons_in_layer_1': 30, 'neurons_in_layer_2': 30, 'neurons_in_layer_3': 30} \n",
      "\n"
     ]
    }
   ],
   "source": [
    "generator = ConfigurationGenerator(\n",
    "\tmode = \"random\",\n",
    "\tnum_trials = 3,\n",
    "\tfolded_hyper_space={\n",
    "\t\t\n",
    "\t\t\"loss_function\" : Hyperparameter(\n",
    "\t\t\t\tgenerator_logic=\"all_from_list\",\n",
    "\t\t\t\tgenerator_space=[ LossFunctions.MSE ]\n",
    "\t\t),\n",
    "\t\t\"optimizer\" : Hyperparameter(\n",
    "\t\t\t\tgenerator_logic=\"all_from_list\",\n",
    "\t\t\t\tgenerator_space=[ NesterovSGD ]\n",
    "\t\t),\n",
    "\t\t\"optimizer_learning_rate\" : Hyperparameter(\n",
    "\t\t\t\tgenerator_logic=\"all_from_list\",\n",
    "\t\t\t\tgenerator_space=[ 0.1 ]\n",
    "\t\t),\n",
    "\t\t\"optimizer_momentum\" : Hyperparameter(\n",
    "\t\t\t\tgenerator_logic=\"random_choice_from_range\",\n",
    "\t\t\t\tgenerator_space= (0.7, 0.9 )\n",
    "\t\t),\n",
    "\t\t\"optimizer_regularization\" : Hyperparameter(\n",
    "\t\t\t\tgenerator_logic=\"all_from_list\",\n",
    "\t\t\t\tgenerator_space=[ 0. ,0.1, 0.2  ]\n",
    "\t\t),\n",
    "\t\t\"batch_size\" : Hyperparameter(\n",
    "\t\t\t\tgenerator_logic=\"all_from_list\",\n",
    "\t\t\t\tgenerator_space=[ 200 ]\n",
    "\t\t),\n",
    "\t\t\"num_epochs\" : Hyperparameter(\n",
    "\t\t\t\tgenerator_logic=\"all_from_list\",\n",
    "\t\t\t\tgenerator_space=[ 1000 ]\n",
    "\t\t),\n",
    "\t\t\"num_hidden_layers\" : Hyperparameter(\n",
    "\t\t\t\tgenerator_logic=\"all_from_list\",\n",
    "\t\t\t\tgenerator_space=[ 3 ]\n",
    "\t\t),\n",
    "\t\t\"neurons_in_layer_1\" : Hyperparameter(\n",
    "\t\t\t\tgenerator_logic=\"all_from_list\",\n",
    "\t\t\t\tgenerator_space=[ 30 ]\n",
    "\t\t),\n",
    "\t\t\"neurons_in_layer_2\" : Hyperparameter(\n",
    "\t\t\t\tgenerator_logic=\"all_from_list\",\n",
    "\t\t\t\tgenerator_space=[ 30 ]\n",
    "\t\t),\n",
    "\t\t\"neurons_in_layer_3\" : Hyperparameter(\n",
    "\t\t\t\tgenerator_logic=\"all_from_list\",\n",
    "\t\t\t\tgenerator_space=[ 30 ]\n",
    "\t\t)\n",
    "\t}\n",
    ")\n",
    "\n",
    "for i in generator:\n",
    "\tprint(i, \"\\n\")"
   ]
  },
  {
   "cell_type": "markdown",
   "metadata": {},
   "source": [
    "# Dataset preprocessing"
   ]
  },
  {
   "cell_type": "code",
   "execution_count": 4,
   "metadata": {},
   "outputs": [],
   "source": [
    "dataset_attribute_columns = [\"a1\", \"a2\", \"a3\", \"a4\", \"a5\", \"a6\"]\n",
    "dataset_class_column = \"class\"\n",
    "\n",
    "tr_df, vl_df, _ = neural_network.utils.split_samples(\n",
    "\tdf=datasets.read_monk1()[0],\n",
    "\ttr_size=0.7,\n",
    "\tvl_size=0.3,\n",
    "\tts_size=0.0\n",
    ")\n",
    "\n",
    "tr_df = pd.get_dummies(tr_df, columns=dataset_attribute_columns)\n",
    "vl_df = pd.get_dummies(vl_df, columns=dataset_attribute_columns)\n",
    "\n",
    "tr_outputs = tr_df.pop(\"class\").to_numpy()\n",
    "tr_inputs = tr_df.to_numpy(dtype=np.float32)\n",
    "vl_outputs = vl_df.pop(\"class\").to_numpy()\n",
    "vl_inputs = vl_df.to_numpy(dtype=np.float32)\n",
    "\n",
    "tr_outputs = minmax_scale(tr_outputs)\n",
    "tr_inputs = minmax_scale(tr_inputs)\n",
    "vl_outputs = minmax_scale(vl_outputs)\n",
    "vl_inputs = minmax_scale(vl_inputs)"
   ]
  },
  {
   "cell_type": "code",
   "execution_count": 5,
   "metadata": {},
   "outputs": [
    {
     "name": "stdout",
     "output_type": "stream",
     "text": [
      "model builded\n"
     ]
    },
    {
     "ename": "Exception",
     "evalue": "input shape not matching the shape provided",
     "output_type": "error",
     "traceback": [
      "\u001b[0;31m---------------------------------------------------------------------------\u001b[0m",
      "\u001b[0;31mException\u001b[0m                                 Traceback (most recent call last)",
      "Cell \u001b[0;32mIn [5], line 9\u001b[0m\n\u001b[1;32m      1\u001b[0m \u001b[39mfor\u001b[39;00m config \u001b[39min\u001b[39;00m generator:\n\u001b[1;32m      2\u001b[0m     model \u001b[39m=\u001b[39m model_builder(\n\u001b[1;32m      3\u001b[0m         config\u001b[39m=\u001b[39mconfig,\n\u001b[1;32m      4\u001b[0m         input_shape\u001b[39m=\u001b[39m tr_inputs\u001b[39m.\u001b[39mshape[\u001b[39m-\u001b[39m\u001b[39m1\u001b[39m],\n\u001b[1;32m      5\u001b[0m         output_shape\u001b[39m=\u001b[39m\u001b[39m1\u001b[39m,\n\u001b[1;32m      6\u001b[0m         verbose\u001b[39m=\u001b[39m\u001b[39mTrue\u001b[39;00m\n\u001b[1;32m      7\u001b[0m     )\n\u001b[0;32m----> 9\u001b[0m     model\u001b[39m.\u001b[39mfit(tr_inputs, tr_outputs, validation_data\u001b[39m=\u001b[39m[vl_inputs, vl_outputs])\n",
      "File \u001b[0;32m~/neural_network/neural_network/classes/MLClassifier.py:86\u001b[0m, in \u001b[0;36mMLClassifier.fit\u001b[0;34m(self, inputs, expected_outputs, validation_data)\u001b[0m\n\u001b[1;32m     83\u001b[0m train_accuracy\u001b[39m.\u001b[39mappend(\u001b[39mself\u001b[39m\u001b[39m.\u001b[39mevaluate(inputs, expected_outputs))  \u001b[39m# predict all the inputs together\u001b[39;00m\n\u001b[1;32m     85\u001b[0m \u001b[39mif\u001b[39;00m validation_data:\n\u001b[0;32m---> 86\u001b[0m \tvalidation_loss\u001b[39m.\u001b[39mappend(np\u001b[39m.\u001b[39mmean(\u001b[39mself\u001b[39m\u001b[39m.\u001b[39mloss\u001b[39m.\u001b[39mf(validation_data[\u001b[39m1\u001b[39m], \u001b[39mself\u001b[39;49m\u001b[39m.\u001b[39;49mpredict(validation_data[\u001b[39m0\u001b[39;49m]))))\n\u001b[1;32m     87\u001b[0m \tvalidation_accuracy\u001b[39m.\u001b[39mappend(\u001b[39mself\u001b[39m\u001b[39m.\u001b[39mevaluate(validation_data[\u001b[39m0\u001b[39m], validation_data[\u001b[39m1\u001b[39m]))\n\u001b[1;32m     89\u001b[0m \u001b[39mif\u001b[39;00m \u001b[39mself\u001b[39m\u001b[39m.\u001b[39mverbose:\n",
      "File \u001b[0;32m~/neural_network/neural_network/classes/MLClassifier.py:123\u001b[0m, in \u001b[0;36mMLClassifier.predict\u001b[0;34m(self, input)\u001b[0m\n\u001b[1;32m    121\u001b[0m layer_input \u001b[39m=\u001b[39m \u001b[39minput\u001b[39m\n\u001b[1;32m    122\u001b[0m \u001b[39mfor\u001b[39;00m layer \u001b[39min\u001b[39;00m \u001b[39mself\u001b[39m\u001b[39m.\u001b[39mlayers:\n\u001b[0;32m--> 123\u001b[0m \toutput \u001b[39m=\u001b[39m layer\u001b[39m.\u001b[39;49mfeedforward(layer_input)\n\u001b[1;32m    124\u001b[0m \tlayer_input \u001b[39m=\u001b[39m output\n\u001b[1;32m    125\u001b[0m \u001b[39mreturn\u001b[39;00m output\n",
      "File \u001b[0;32m~/neural_network/neural_network/classes/Layer/InputLayer.py:41\u001b[0m, in \u001b[0;36mInputLayer.feedforward\u001b[0;34m(self, input_vector)\u001b[0m\n\u001b[1;32m     39\u001b[0m \t\u001b[39mraise\u001b[39;00m \u001b[39mException\u001b[39;00m(\u001b[39m\"\u001b[39m\u001b[39mLayer not built, add it to a network\u001b[39m\u001b[39m\"\u001b[39m)\n\u001b[1;32m     40\u001b[0m \u001b[39mif\u001b[39;00m \u001b[39mnot\u001b[39;00m \u001b[39mself\u001b[39m\u001b[39m.\u001b[39mmatch_shape(input_vector):\n\u001b[0;32m---> 41\u001b[0m \t\u001b[39mraise\u001b[39;00m \u001b[39mException\u001b[39;00m(\u001b[39m\"\u001b[39m\u001b[39minput shape not matching the shape provided\u001b[39m\u001b[39m\"\u001b[39m)\n\u001b[1;32m     43\u001b[0m \u001b[39m# save the inputs for backpropagation\u001b[39;00m\n\u001b[1;32m     44\u001b[0m \u001b[39mself\u001b[39m\u001b[39m.\u001b[39minputs \u001b[39m=\u001b[39m input_vector\n",
      "\u001b[0;31mException\u001b[0m: input shape not matching the shape provided"
     ]
    }
   ],
   "source": [
    "for config in generator:\n",
    "    model = model_builder(\n",
    "        config=config,\n",
    "        input_shape= tr_inputs.shape[-1],\n",
    "        output_shape=1,\n",
    "        verbose=True\n",
    "    )\n",
    "\n",
    "    model.fit(tr_inputs, tr_outputs, validation_data=[vl_inputs, vl_outputs])"
   ]
  }
 ],
 "metadata": {
  "kernelspec": {
   "display_name": "Python 3.10.6 64-bit",
   "language": "python",
   "name": "python3"
  },
  "language_info": {
   "codemirror_mode": {
    "name": "ipython",
    "version": 3
   },
   "file_extension": ".py",
   "mimetype": "text/x-python",
   "name": "python",
   "nbconvert_exporter": "python",
   "pygments_lexer": "ipython3",
   "version": "3.10.6"
  },
  "orig_nbformat": 4,
  "vscode": {
   "interpreter": {
    "hash": "916dbcbb3f70747c44a77c7bcd40155683ae19c65e1c03b4aa3499c5328201f1"
   }
  }
 },
 "nbformat": 4,
 "nbformat_minor": 2
}
