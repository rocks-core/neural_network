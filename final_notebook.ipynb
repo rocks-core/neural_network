{
 "cells": [
  {
   "cell_type": "code",
   "execution_count": 2,
   "outputs": [],
   "source": [
    "from model_builder import model_builder\n",
    "from neural_network.classes.Callbacks import EarlyStopping\n",
    "from neural_network.classes.LossFunctions import MeanEuclideanDistance\n",
    "from neural_network.classes.Optimizers import *\n",
    "from neural_network.classes.Validation import *\n",
    "import pandas as pd\n",
    "from neural_network.classes.ActivationFunctions import Sigmoid, TanH\n",
    "from neural_network.classes.Validation import TunerHO"
   ],
   "metadata": {
    "collapsed": false
   }
  },
  {
   "cell_type": "markdown",
   "source": [
    "Importing the dataset"
   ],
   "metadata": {
    "collapsed": false
   }
  },
  {
   "cell_type": "code",
   "execution_count": 3,
   "outputs": [],
   "source": [
    "dataset_attribute_columns = [\"a1\", \"a2\", \"a3\", \"a4\", \"a5\", \"a6\", \"a7\", \"a8\", \"a9\"]\n",
    "dataset_class_column = [\"target_x\", \"target_y\"]\n",
    "dataset_train = pd.read_csv(\"neural_network/datasets/MLCup/train.csv\", skiprows=7, index_col=0, names= dataset_attribute_columns + dataset_class_column)\n",
    "dataset_test = pd.read_csv(\"neural_network/datasets/MLCup/test.csv\", skiprows=7, index_col=0, names= dataset_attribute_columns + dataset_class_column)\n",
    "\n",
    "train_set_y = dataset_train[dataset_class_column].to_numpy()\n",
    "train_set_x = dataset_train[dataset_attribute_columns].to_numpy()\n",
    "\n",
    "test_set_y = dataset_test[dataset_class_column].to_numpy()\n",
    "test_set_x = dataset_test[dataset_attribute_columns].to_numpy()"
   ],
   "metadata": {
    "collapsed": false
   }
  },
  {
   "cell_type": "markdown",
   "source": [
    "Hyperparameter values for coarse-grained search"
   ],
   "metadata": {
    "collapsed": false
   }
  },
  {
   "cell_type": "code",
   "execution_count": 4,
   "metadata": {
    "collapsed": true
   },
   "outputs": [],
   "source": [
    "hp = {\"num_hidden_layers\": Hyperparameter(\n",
    "    generator_logic=\"all_from_list\",\n",
    "    generator_space=[2, 3, 4],\n",
    "    unfold=True),\n",
    "    \"neurons_in_layer_1\": Hyperparameter(\n",
    "    generator_logic=\"all_from_list\",\n",
    "    generator_space=[10, 70],\n",
    "    unfold=True),\n",
    "    \"neurons_in_layer_2\": Hyperparameter(\n",
    "    generator_logic=\"all_from_list\",\n",
    "    generator_space=[10, 70],\n",
    "    unfold=True),\n",
    "    \"neurons_in_layer_3\": Hyperparameter(\n",
    "    generator_logic=\"all_from_list\",\n",
    "    generator_space=[0, 10, 70],\n",
    "    unfold=True),\n",
    "    \"neurons_in_layer_4\": Hyperparameter(\n",
    "    generator_logic=\"all_from_list\",\n",
    "    generator_space=[0, 10, 70],\n",
    "    unfold=True),\n",
    "    \"loss_function\": Hyperparameter(\n",
    "    generator_logic=\"all_from_list\",\n",
    "    generator_space=[MeanEuclideanDistance],\n",
    "    unfold=True),\n",
    "    \"optimizer\": Hyperparameter(\n",
    "    generator_logic=\"all_from_list\",\n",
    "    generator_space=[SGD],\n",
    "    unfold=True),\n",
    "    \"learning_rate\": Hyperparameter(\n",
    "    generator_logic=\"all_from_list\",\n",
    "    generator_space=[0.1, 0.01, 0.001],\n",
    "    unfold=True),\n",
    "    \"momentum\": Hyperparameter(\n",
    "    generator_logic=\"all_from_list\",\n",
    "    generator_space=[0.9, 0.5, 0.1],\n",
    "    unfold=True),\n",
    "    \"regularization\": Hyperparameter(\n",
    "    generator_logic=\"all_from_list\",\n",
    "    generator_space=[1e-8, 1e-5, 1e-2],\n",
    "    unfold=True),\n",
    "    \"activation_function\": Hyperparameter(\n",
    "    generator_logic=\"all_from_list\",\n",
    "    generator_space=[Sigmoid, TanH],\n",
    "    unfold=True),\n",
    "    \"batch_size\": Hyperparameter(\n",
    "    generator_logic=\"all_from_list\",\n",
    "    generator_space=[200],\n",
    "    unfold=True),\n",
    "    \"num_epochs\": Hyperparameter(\n",
    "    generator_logic=\"all_from_list\",\n",
    "    generator_space=[1000],\n",
    "    unfold=True),\n",
    "    \"callbacks\": Hyperparameter(\n",
    "    generator_logic=\"all_from_list\",\n",
    "    generator_space=[[EarlyStopping(monitor=\"val_mean_euclidean_distance\", patience=50, mode=\"min\", min_delta=1e-2, restore_best_weight=False)]],\n",
    "    unfold=True)\n",
    "}"
   ]
  },
  {
   "cell_type": "markdown",
   "source": [
    "Here we perform a random search with few trials to have some results in short time. Running the whole grid search require much more time"
   ],
   "metadata": {
    "collapsed": false
   }
  },
  {
   "cell_type": "code",
   "execution_count": null,
   "outputs": [],
   "source": [
    "# tuner = TunerHO(ConfigurationGenerator(hp, mode=\"grid\"), model_builder, val_size=0.25, verbose=True,\n",
    "#                 default_metric=\"val_mean_euclidean_distance\", default_reverse=False, shuffle=True)\n",
    "tuner = TunerHO(ConfigurationGenerator(hp, mode=\"random\", num_trials=16), model_builder, val_size=0.25, verbose=False,\n",
    "                default_metric=\"val_mean_euclidean_distance\", default_reverse=False, shuffle=True)\n",
    "\n",
    "results = tuner.fit(train_set_x, train_set_y)\n",
    "results.sort(metric=\"val_mean_euclidean_distance\", reverse=False)\n",
    "results.dump(\"./coarse_search.pickle\")"
   ],
   "metadata": {
    "collapsed": false,
    "pycharm": {
     "is_executing": true
    }
   }
  },
  {
   "cell_type": "markdown",
   "source": [
    "Hyperparameter values for fine-grained search"
   ],
   "metadata": {
    "collapsed": false
   }
  },
  {
   "cell_type": "code",
   "execution_count": 8,
   "outputs": [],
   "source": [
    "hp = {\"num_hidden_layers\": Hyperparameter(\n",
    "    generator_logic=\"all_from_list\",\n",
    "    generator_space=[3],\n",
    "    unfold=True),\n",
    "    \"neurons_in_layer_1\": Hyperparameter(\n",
    "    generator_logic=\"all_from_list\",\n",
    "    generator_space=[10, 15, 20],\n",
    "    unfold=True),\n",
    "    \"neurons_in_layer_2\": Hyperparameter(\n",
    "    generator_logic=\"all_from_list\",\n",
    "    generator_space=[10, 15, 20],\n",
    "    unfold=True),\n",
    "    \"neurons_in_layer_3\": Hyperparameter(\n",
    "    generator_logic=\"all_from_list\",\n",
    "    generator_space=[10, 15, 20],\n",
    "    unfold=True),\n",
    "    \"loss_function\": Hyperparameter(\n",
    "    generator_logic=\"all_from_list\",\n",
    "    generator_space=[MeanEuclideanDistance],\n",
    "    unfold=True),\n",
    "    \"optimizer\": Hyperparameter(\n",
    "    generator_logic=\"all_from_list\",\n",
    "    generator_space=[SGD],\n",
    "    unfold=True),\n",
    "    \"learning_rate\": Hyperparameter(\n",
    "    generator_logic=\"all_from_list\",\n",
    "    generator_space=[0.05, 0.03, 0.01, 0.005],\n",
    "    unfold=True),\n",
    "    \"momentum\": Hyperparameter(\n",
    "    generator_logic=\"all_from_list\",\n",
    "    generator_space=[0.6, 0.5, 0.4],\n",
    "    unfold=True),\n",
    "    \"regularization\": Hyperparameter(\n",
    "    generator_logic=\"all_from_list\",\n",
    "    generator_space=[0., 1e-8, 1e-7, 1e-6],\n",
    "    unfold=True),\n",
    "    \"activation_function\": Hyperparameter(\n",
    "    generator_logic=\"all_from_list\",\n",
    "    generator_space=[Sigmoid],\n",
    "    unfold=True),\n",
    "    \"batch_size\": Hyperparameter(\n",
    "    generator_logic=\"all_from_list\",\n",
    "    generator_space=[200],\n",
    "    unfold=True),\n",
    "    \"num_epochs\": Hyperparameter(\n",
    "    generator_logic=\"all_from_list\",\n",
    "    generator_space=[1000],\n",
    "    unfold=True),\n",
    "    \"callbacks\": Hyperparameter(\n",
    "    generator_logic=\"all_from_list\",\n",
    "    generator_space=[[EarlyStopping(monitor=\"val_mean_euclidean_distance\", patience=50, mode=\"min\", min_delta=1e-2, restore_best_weight=False)]],\n",
    "    unfold=True)\n",
    "}"
   ],
   "metadata": {
    "collapsed": false
   }
  },
  {
   "cell_type": "markdown",
   "source": [
    "Again we perform a random search to finish in short time"
   ],
   "metadata": {
    "collapsed": false
   }
  },
  {
   "cell_type": "code",
   "execution_count": 24,
   "outputs": [
    {
     "name": "stderr",
     "output_type": "stream",
     "text": [
      "Process ForkProcess-45:\n",
      "\n",
      "KeyboardInterrupt\n",
      "\n"
     ]
    }
   ],
   "source": [
    "# tuner = TunerCV(ConfigurationGenerator(hp, mode=\"grid\"), model_builder, n_fold=4, verbose=True,\n",
    "#                 default_metric=\"val_mean_euclidean_distance\", default_reverse=False)\n",
    "tuner = TunerCV(ConfigurationGenerator(hp, mode=\"random\", num_trials=16), model_builder, n_fold=4, verbose=False,\n",
    "                default_metric=\"val_mean_euclidean_distance\", default_reverse=False)\n",
    "\n",
    "val_results = tuner.fit(train_set_x, train_set_y)\n",
    "best_model = tuner.best_model()\n",
    "best_model.verbose = True\n",
    "refit_results = best_model.fit(train_set_x, train_set_y, epochs=1000, batch_size=200)\n",
    "test_result = best_model.evaluate_result(test_set_x, test_set_y)\n",
    "test_result.refit_result = refit_results\n",
    "test_result.validation_results = val_results\n",
    "\n",
    "print(\"Training error:\", test_result.validation_results.list[0].metrics[\"mean_euclidean_distance\"])\n",
    "print(\"Validation error:\", test_result.validation_results.list[0].metrics[\"val_mean_euclidean_distance\"])\n",
    "print(\"Training error of refit\", test_result.reftit_result.metrics[\"mean_euclidean_distance\"])\n",
    "print(\"Test error\", test_result.metrics[\"mean_euclidean_distance\"])\n",
    "\n",
    "test_result.dump(\"./test_results.pickle\")"
   ],
   "metadata": {
    "collapsed": false
   }
  },
  {
   "cell_type": "markdown",
   "source": [
    "Once the model assessment is done, we merged the train and test set and performed a final model selection with final refit to achive the best performance possible on the ML Cup"
   ],
   "metadata": {
    "collapsed": false
   }
  },
  {
   "cell_type": "code",
   "execution_count": null,
   "outputs": [],
   "source": [
    "full_dataset_x = np.concatenate([train_set_x, test_set_x], axis=0)\n",
    "full_dataset_y = np.concatenate([train_set_y, test_set_y], axis=0)\n",
    "\n",
    "final_val = tuner.fit(full_dataset_x, full_dataset_y)\n",
    "best_model = tuner.best_model()\n",
    "final_refit = best_model.fit(full_dataset_x, full_dataset_y)\n",
    "\n",
    "print(\"Training error:\", final_val.list[0].metrics[\"mean_euclidean_distance\"])\n",
    "print(\"Validation error:\", final_val.list[0].metrics[\"val_mean_euclidean_distance\"])\n",
    "print(\"Training error of refit:\", final_refit.metrics[\"mean_euclidean_distance\"])\n",
    "\n",
    "final_val.dump(\"./final_val_results.pickle\")\n",
    "final_refit.dump(\"./final_refit_results.pickle\")\n",
    "best_model.dump_weights(\"./best_weights.pickle\")"
   ],
   "metadata": {
    "collapsed": false,
    "pycharm": {
     "is_executing": true
    }
   }
  },
  {
   "cell_type": "markdown",
   "source": [
    "Prediction on the blind test set"
   ],
   "metadata": {
    "collapsed": false
   }
  },
  {
   "cell_type": "code",
   "execution_count": 23,
   "outputs": [],
   "source": [
    "dataset = pd.read_csv(\"neural_network/datasets/ML-CUP22-TS.csv\", skiprows=7, index_col=0, names= dataset_attribute_columns)\n",
    "blind_test_set = dataset[dataset_attribute_columns].to_numpy()\n",
    "\n",
    "prediction = best_model.predict(blind_test_set)\n",
    "df = pd.DataFrame(prediction)\n",
    "df.to_csv(\"./final_prediction.csv\", float_format='%.16f', index=True, header=False)"
   ],
   "metadata": {
    "collapsed": false
   }
  }
 ],
 "metadata": {
  "kernelspec": {
   "display_name": "Python 3",
   "language": "python",
   "name": "python3"
  },
  "language_info": {
   "codemirror_mode": {
    "name": "ipython",
    "version": 2
   },
   "file_extension": ".py",
   "mimetype": "text/x-python",
   "name": "python",
   "nbconvert_exporter": "python",
   "pygments_lexer": "ipython2",
   "version": "2.7.6"
  }
 },
 "nbformat": 4,
 "nbformat_minor": 0
}
