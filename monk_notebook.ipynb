{
 "cells": [
  {
   "cell_type": "code",
   "execution_count": null,
   "metadata": {
    "collapsed": true
   },
   "outputs": [],
   "source": [
    "from neural_network import datasets\n",
    "from neural_network.classes.LossFunctions import MSE\n",
    "from model_builder_monk import model_builder\n",
    "from neural_network.classes.Callbacks import EarlyStopping\n",
    "from neural_network.classes.Optimizers import *\n",
    "from neural_network.classes.Validation import *\n",
    "import pandas as pd\n",
    "from neural_network.classes.ActivationFunctions import TanH\n",
    "from neural_network.classes.Validation import TunerCV"
   ]
  },
  {
   "cell_type": "code",
   "execution_count": null,
   "outputs": [],
   "source": [
    "hp = {\"num_hidden_layers\": Hyperparameter(\n",
    "    generator_logic=\"all_from_list\",\n",
    "    generator_space=[2],\n",
    "    unfold=True),\n",
    "    \"neurons_in_layer_1\": Hyperparameter(\n",
    "    generator_logic=\"all_from_list\",\n",
    "    generator_space=[5, 10, 20],\n",
    "    unfold=True),\n",
    "    \"neurons_in_layer_2\": Hyperparameter(\n",
    "    generator_logic=\"all_from_list\",\n",
    "    generator_space=[5, 10, 20],\n",
    "    unfold=True),\n",
    "    \"loss_function\": Hyperparameter(\n",
    "    generator_logic=\"all_from_list\",\n",
    "    generator_space=[MSE],\n",
    "    unfold=True),\n",
    "    \"optimizer\": Hyperparameter(\n",
    "    generator_logic=\"all_from_list\",\n",
    "    generator_space=[SGD],\n",
    "    unfold=True),\n",
    "    \"learning_rate\": Hyperparameter(\n",
    "    generator_logic=\"all_from_list\",\n",
    "    generator_space=[0.5, 0.3, 0.1, 0.05],\n",
    "    unfold=True),\n",
    "    \"momentum\": Hyperparameter(\n",
    "    generator_logic=\"all_from_list\",\n",
    "    generator_space=[0.7, 0.4, 0.3],\n",
    "    unfold=True),\n",
    "    \"regularization\": Hyperparameter(\n",
    "    generator_logic=\"all_from_list\",\n",
    "    generator_space=[0., 1e-7, 1e-6, 1e-5],\n",
    "    unfold=True),\n",
    "    \"activation_function\": Hyperparameter(\n",
    "    generator_logic=\"all_from_list\",\n",
    "    generator_space=[TanH],\n",
    "    unfold=True),\n",
    "    \"batch_size\": Hyperparameter(\n",
    "    generator_logic=\"all_from_list\",\n",
    "    generator_space=[50],\n",
    "    unfold=True),\n",
    "    \"num_epochs\": Hyperparameter(\n",
    "    generator_logic=\"all_from_list\",\n",
    "    generator_space=[500],\n",
    "    unfold=True),\n",
    "    \"callbacks\": Hyperparameter(\n",
    "    generator_logic=\"all_from_list\",\n",
    "    generator_space=[[EarlyStopping(monitor=\"val_mse\", patience=50, mode=\"min\", min_delta=1e-4, restore_best_weight=False)]],\n",
    "    unfold=True)\n",
    "}"
   ],
   "metadata": {
    "collapsed": false
   }
  },
  {
   "cell_type": "code",
   "execution_count": null,
   "outputs": [],
   "source": [
    "dataset_attribute_columns = [\"a1\", \"a2\", \"a3\", \"a4\", \"a5\", \"a6\"]\n",
    "dataset_class_column = \"class\"\n",
    "\n",
    "paths = [\"monk1_\", \"monk2_\", \"monk3_\"]\n",
    "for i, p in enumerate(paths):\n",
    "\n",
    "    df, dft = datasets.read_monk(i+1)\n",
    "\n",
    "    df = pd.get_dummies(df, columns=dataset_attribute_columns)\n",
    "    dft = pd.get_dummies(dft, columns=dataset_attribute_columns)\n",
    "\n",
    "    y = df.pop(\"class\").to_numpy()\n",
    "    X = df.to_numpy(dtype=np.float32)\n",
    "\n",
    "    perm = np.random.permutation(X.shape[0])\n",
    "    X = X[perm]\n",
    "    y = y[perm]\n",
    "\n",
    "    test_y = dft.pop(\"class\").to_numpy()\n",
    "    test_x = dft.to_numpy(dtype=np.float32)\n",
    "\n",
    "    tuner = TunerCV(ConfigurationGenerator(hp, mode=\"grid\"), model_builder, n_fold=4, verbose=True,\n",
    "                    default_metric=\"val_binary_accuracy\", default_reverse=True)\n",
    "\n",
    "    val_res = tuner.fit(X, y)\n",
    "    best_model = tuner.best_model()\n",
    "    refit_results = best_model.fit(X, y)\n",
    "    best_model.dump_weights(p + \"best_weights.pickle\")\n",
    "    test_result = best_model.evaluate_result(test_x, test_y)\n",
    "    test_result.validation_results = val_res\n",
    "    test_result.refit_results = refit_results\n",
    "    test_result.dump(p + \"test_results.pickle\")"
   ],
   "metadata": {
    "collapsed": false
   }
  }
 ],
 "metadata": {
  "kernelspec": {
   "display_name": "Python 3",
   "language": "python",
   "name": "python3"
  },
  "language_info": {
   "codemirror_mode": {
    "name": "ipython",
    "version": 2
   },
   "file_extension": ".py",
   "mimetype": "text/x-python",
   "name": "python",
   "nbconvert_exporter": "python",
   "pygments_lexer": "ipython2",
   "version": "2.7.6"
  }
 },
 "nbformat": 4,
 "nbformat_minor": 0
}
